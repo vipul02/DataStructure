{
 "cells": [
  {
   "cell_type": "markdown",
   "metadata": {},
   "source": [
    "#### Write a code for constructing a Binary Search Tree on a list of 10 random integers in Python using Object Orinted Programming"
   ]
  },
  {
   "cell_type": "code",
   "execution_count": 1,
   "metadata": {},
   "outputs": [],
   "source": [
    "import numpy as np"
   ]
  },
  {
   "cell_type": "code",
   "execution_count": 2,
   "metadata": {},
   "outputs": [],
   "source": [
    "# creating class for structure of tree which has node.data, node.left(left child), node.right(right child)\n",
    "class tree:\n",
    "    def __init__(self, data):\n",
    "        self.data = data\n",
    "        self.left = None\n",
    "        self.right = None"
   ]
  },
  {
   "cell_type": "code",
   "execution_count": 3,
   "metadata": {},
   "outputs": [],
   "source": [
    "# This will create list with size of 10 random values ranging from 1 to 100(not included)\n",
    "vals = list(np.random.randint(1, 100, size=10))"
   ]
  },
  {
   "cell_type": "code",
   "execution_count": 4,
   "metadata": {},
   "outputs": [
    {
     "data": {
      "text/plain": [
       "[72, 71, 37, 50, 81, 36, 60, 52, 79, 64]"
      ]
     },
     "execution_count": 4,
     "metadata": {},
     "output_type": "execute_result"
    }
   ],
   "source": [
    "vals"
   ]
  },
  {
   "cell_type": "code",
   "execution_count": 5,
   "metadata": {},
   "outputs": [],
   "source": [
    "def insert(root, val):\n",
    "    # checks whether root node is none or not, \n",
    "    # if it is none, create a new node assign it a value\n",
    "    if root == None:\n",
    "        \n",
    "        print('creating tree')\n",
    "        \n",
    "        # creation of new node with data as val\n",
    "        root = tree(val)\n",
    "        \n",
    "        print(root.data, end='\\n')\n",
    "        return root\n",
    "    elif val < root.data:\n",
    "        print('shifting node: root.left: ', root.left)\n",
    "        # this will call insert function with root node as root.left\n",
    "        root.left = insert(root.left, val)\n",
    "    else:\n",
    "        print('shifting node: root.right: ', root.right)\n",
    "        # this will call insert function with root node as root.right\n",
    "        root.right = insert(root.right, val)\n",
    "    return root"
   ]
  },
  {
   "cell_type": "code",
   "execution_count": 6,
   "metadata": {},
   "outputs": [
    {
     "name": "stdout",
     "output_type": "stream",
     "text": [
      "--------------------------------\n",
      "1  iter:\n",
      "inside loop\n",
      "creating tree\n",
      "72\n",
      "--------------------------------\n",
      "2  iter:\n",
      "inside loop\n",
      "shifting node: root.left:  None\n",
      "creating tree\n",
      "71\n",
      "--------------------------------\n",
      "3  iter:\n",
      "inside loop\n",
      "shifting node: root.left:  <__main__.tree object at 0x0000021974EE8438>\n",
      "shifting node: root.left:  None\n",
      "creating tree\n",
      "37\n",
      "--------------------------------\n",
      "4  iter:\n",
      "inside loop\n",
      "shifting node: root.left:  <__main__.tree object at 0x0000021974EE8438>\n",
      "shifting node: root.left:  <__main__.tree object at 0x0000021974EE8828>\n",
      "shifting node: root.right:  None\n",
      "creating tree\n",
      "50\n",
      "--------------------------------\n",
      "5  iter:\n",
      "inside loop\n",
      "shifting node: root.right:  None\n",
      "creating tree\n",
      "81\n",
      "--------------------------------\n",
      "6  iter:\n",
      "inside loop\n",
      "shifting node: root.left:  <__main__.tree object at 0x0000021974EE8438>\n",
      "shifting node: root.left:  <__main__.tree object at 0x0000021974EE8828>\n",
      "shifting node: root.left:  None\n",
      "creating tree\n",
      "36\n",
      "--------------------------------\n",
      "7  iter:\n",
      "inside loop\n",
      "shifting node: root.left:  <__main__.tree object at 0x0000021974EE8438>\n",
      "shifting node: root.left:  <__main__.tree object at 0x0000021974EE8828>\n",
      "shifting node: root.right:  <__main__.tree object at 0x0000021974EE8668>\n",
      "shifting node: root.right:  None\n",
      "creating tree\n",
      "60\n",
      "--------------------------------\n",
      "8  iter:\n",
      "inside loop\n",
      "shifting node: root.left:  <__main__.tree object at 0x0000021974EE8438>\n",
      "shifting node: root.left:  <__main__.tree object at 0x0000021974EE8828>\n",
      "shifting node: root.right:  <__main__.tree object at 0x0000021974EE8668>\n",
      "shifting node: root.right:  <__main__.tree object at 0x0000021974EE8EB8>\n",
      "shifting node: root.left:  None\n",
      "creating tree\n",
      "52\n",
      "--------------------------------\n",
      "9  iter:\n",
      "inside loop\n",
      "shifting node: root.right:  <__main__.tree object at 0x0000021974EE8748>\n",
      "shifting node: root.left:  None\n",
      "creating tree\n",
      "79\n",
      "--------------------------------\n",
      "10  iter:\n",
      "inside loop\n",
      "shifting node: root.left:  <__main__.tree object at 0x0000021974EE8438>\n",
      "shifting node: root.left:  <__main__.tree object at 0x0000021974EE8828>\n",
      "shifting node: root.right:  <__main__.tree object at 0x0000021974EE8668>\n",
      "shifting node: root.right:  <__main__.tree object at 0x0000021974EE8EB8>\n",
      "shifting node: root.right:  None\n",
      "creating tree\n",
      "64\n"
     ]
    }
   ],
   "source": [
    "# Initializing root node with None\n",
    "root = None\n",
    "\n",
    "for val in vals:\n",
    "    print('--------------------------------')\n",
    "    print(vals.index(val) + 1, ' iter:')\n",
    "    print('inside loop', end='\\n')\n",
    "    # calling function \n",
    "    root = insert(root, val)"
   ]
  },
  {
   "cell_type": "code",
   "execution_count": 7,
   "metadata": {},
   "outputs": [],
   "source": [
    "# inorder traversal of tree\n",
    "def inorder(root):\n",
    "    if not root:\n",
    "        return\n",
    "    inorder(root.left)\n",
    "    print(root.data ,end=' ')\n",
    "    inorder(root.right)"
   ]
  },
  {
   "cell_type": "code",
   "execution_count": 8,
   "metadata": {},
   "outputs": [
    {
     "name": "stdout",
     "output_type": "stream",
     "text": [
      "36 37 50 52 60 64 71 72 79 81 "
     ]
    }
   ],
   "source": [
    "inorder(root)"
   ]
  },
  {
   "cell_type": "code",
   "execution_count": 9,
   "metadata": {},
   "outputs": [
    {
     "data": {
      "text/plain": [
       "72"
      ]
     },
     "execution_count": 9,
     "metadata": {},
     "output_type": "execute_result"
    }
   ],
   "source": [
    "root.data"
   ]
  },
  {
   "cell_type": "code",
   "execution_count": 10,
   "metadata": {},
   "outputs": [
    {
     "data": {
      "text/plain": [
       "71"
      ]
     },
     "execution_count": 10,
     "metadata": {},
     "output_type": "execute_result"
    }
   ],
   "source": [
    "root.left.data"
   ]
  },
  {
   "cell_type": "code",
   "execution_count": 11,
   "metadata": {},
   "outputs": [
    {
     "data": {
      "text/plain": [
       "81"
      ]
     },
     "execution_count": 11,
     "metadata": {},
     "output_type": "execute_result"
    }
   ],
   "source": [
    "root.right.data"
   ]
  },
  {
   "cell_type": "code",
   "execution_count": 12,
   "metadata": {},
   "outputs": [
    {
     "data": {
      "text/plain": [
       "37"
      ]
     },
     "execution_count": 12,
     "metadata": {},
     "output_type": "execute_result"
    }
   ],
   "source": [
    "root.left.left.data"
   ]
  }
 ],
 "metadata": {
  "kernelspec": {
   "display_name": "Python 3",
   "language": "python",
   "name": "python3"
  },
  "language_info": {
   "codemirror_mode": {
    "name": "ipython",
    "version": 3
   },
   "file_extension": ".py",
   "mimetype": "text/x-python",
   "name": "python",
   "nbconvert_exporter": "python",
   "pygments_lexer": "ipython3",
   "version": "3.7.0"
  }
 },
 "nbformat": 4,
 "nbformat_minor": 2
}
