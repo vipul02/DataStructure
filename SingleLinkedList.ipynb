{
 "cells": [
  {
   "cell_type": "markdown",
   "metadata": {},
   "source": [
    "#### Write a code for constructing a single linked list on a list of 10 random integers in Python using Object Orinted Programming"
   ]
  },
  {
   "cell_type": "code",
   "execution_count": 1,
   "metadata": {},
   "outputs": [],
   "source": [
    "import numpy as np"
   ]
  },
  {
   "cell_type": "code",
   "execution_count": 2,
   "metadata": {},
   "outputs": [],
   "source": [
    "# This will create node for a particular value of data\n",
    "class node():\n",
    "    def __init__(self, data):\n",
    "        self.data = data\n",
    "        self.next = None"
   ]
  },
  {
   "cell_type": "code",
   "execution_count": 3,
   "metadata": {},
   "outputs": [],
   "source": [
    "# This will create list with size of 10 random values ranging from 1 to 100(not included)\n",
    "vals = list(np.random.randint(1, 100, size=10))"
   ]
  },
  {
   "cell_type": "code",
   "execution_count": 4,
   "metadata": {},
   "outputs": [
    {
     "data": {
      "text/plain": [
       "[33, 15, 77, 61, 5, 14, 37, 89, 21, 85]"
      ]
     },
     "execution_count": 4,
     "metadata": {},
     "output_type": "execute_result"
    }
   ],
   "source": [
    "vals"
   ]
  },
  {
   "cell_type": "code",
   "execution_count": 5,
   "metadata": {},
   "outputs": [],
   "source": [
    "# function to insert nodes in linked list\n",
    "def insert(root, val):\n",
    "    \n",
    "    # checks whether root node is none or not, \n",
    "    # if it is none, create a new node assign it a value\n",
    "    if root == None:\n",
    "        \n",
    "        print('creating node')\n",
    "        \n",
    "        # creation of new node with data as val\n",
    "        root = node(val)\n",
    "        \n",
    "        print(root.data)\n",
    "        print()\n",
    "        return root\n",
    "    else:\n",
    "        print('shifting node: root.next: ', root.next)\n",
    "        # this will call insert function with root node as root.next which will be None\n",
    "        root.next = insert(root.next, val)\n",
    "    return root"
   ]
  },
  {
   "cell_type": "code",
   "execution_count": 6,
   "metadata": {},
   "outputs": [
    {
     "name": "stdout",
     "output_type": "stream",
     "text": [
      "--------------------------------\n",
      "1  iter:\n",
      "inside loop\n",
      "\n",
      "creating node\n",
      "33\n",
      "\n",
      "--------------------------------\n",
      "2  iter:\n",
      "inside loop\n",
      "\n",
      "shifting node: root.next:  None\n",
      "creating node\n",
      "15\n",
      "\n",
      "--------------------------------\n",
      "3  iter:\n",
      "inside loop\n",
      "\n",
      "shifting node: root.next:  <__main__.node object at 0x0000027FB5BBBA20>\n",
      "shifting node: root.next:  None\n",
      "creating node\n",
      "77\n",
      "\n",
      "--------------------------------\n",
      "4  iter:\n",
      "inside loop\n",
      "\n",
      "shifting node: root.next:  <__main__.node object at 0x0000027FB5BBBA20>\n",
      "shifting node: root.next:  <__main__.node object at 0x0000027FB5BBBB00>\n",
      "shifting node: root.next:  None\n",
      "creating node\n",
      "61\n",
      "\n",
      "--------------------------------\n",
      "5  iter:\n",
      "inside loop\n",
      "\n",
      "shifting node: root.next:  <__main__.node object at 0x0000027FB5BBBA20>\n",
      "shifting node: root.next:  <__main__.node object at 0x0000027FB5BBBB00>\n",
      "shifting node: root.next:  <__main__.node object at 0x0000027FB5BBBBE0>\n",
      "shifting node: root.next:  None\n",
      "creating node\n",
      "5\n",
      "\n",
      "--------------------------------\n",
      "6  iter:\n",
      "inside loop\n",
      "\n",
      "shifting node: root.next:  <__main__.node object at 0x0000027FB5BBBA20>\n",
      "shifting node: root.next:  <__main__.node object at 0x0000027FB5BBBB00>\n",
      "shifting node: root.next:  <__main__.node object at 0x0000027FB5BBBBE0>\n",
      "shifting node: root.next:  <__main__.node object at 0x0000027FB5BBBD68>\n",
      "shifting node: root.next:  None\n",
      "creating node\n",
      "14\n",
      "\n",
      "--------------------------------\n",
      "7  iter:\n",
      "inside loop\n",
      "\n",
      "shifting node: root.next:  <__main__.node object at 0x0000027FB5BBBA20>\n",
      "shifting node: root.next:  <__main__.node object at 0x0000027FB5BBBB00>\n",
      "shifting node: root.next:  <__main__.node object at 0x0000027FB5BBBBE0>\n",
      "shifting node: root.next:  <__main__.node object at 0x0000027FB5BBBD68>\n",
      "shifting node: root.next:  <__main__.node object at 0x0000027FB5BBBE48>\n",
      "shifting node: root.next:  None\n",
      "creating node\n",
      "37\n",
      "\n",
      "--------------------------------\n",
      "8  iter:\n",
      "inside loop\n",
      "\n",
      "shifting node: root.next:  <__main__.node object at 0x0000027FB5BBBA20>\n",
      "shifting node: root.next:  <__main__.node object at 0x0000027FB5BBBB00>\n",
      "shifting node: root.next:  <__main__.node object at 0x0000027FB5BBBBE0>\n",
      "shifting node: root.next:  <__main__.node object at 0x0000027FB5BBBD68>\n",
      "shifting node: root.next:  <__main__.node object at 0x0000027FB5BBBE48>\n",
      "shifting node: root.next:  <__main__.node object at 0x0000027FB5BBBF28>\n",
      "shifting node: root.next:  None\n",
      "creating node\n",
      "89\n",
      "\n",
      "--------------------------------\n",
      "9  iter:\n",
      "inside loop\n",
      "\n",
      "shifting node: root.next:  <__main__.node object at 0x0000027FB5BBBA20>\n",
      "shifting node: root.next:  <__main__.node object at 0x0000027FB5BBBB00>\n",
      "shifting node: root.next:  <__main__.node object at 0x0000027FB5BBBBE0>\n",
      "shifting node: root.next:  <__main__.node object at 0x0000027FB5BBBD68>\n",
      "shifting node: root.next:  <__main__.node object at 0x0000027FB5BBBE48>\n",
      "shifting node: root.next:  <__main__.node object at 0x0000027FB5BBBF28>\n",
      "shifting node: root.next:  <__main__.node object at 0x0000027FB4504048>\n",
      "shifting node: root.next:  None\n",
      "creating node\n",
      "21\n",
      "\n",
      "--------------------------------\n",
      "10  iter:\n",
      "inside loop\n",
      "\n",
      "shifting node: root.next:  <__main__.node object at 0x0000027FB5BBBA20>\n",
      "shifting node: root.next:  <__main__.node object at 0x0000027FB5BBBB00>\n",
      "shifting node: root.next:  <__main__.node object at 0x0000027FB5BBBBE0>\n",
      "shifting node: root.next:  <__main__.node object at 0x0000027FB5BBBD68>\n",
      "shifting node: root.next:  <__main__.node object at 0x0000027FB5BBBE48>\n",
      "shifting node: root.next:  <__main__.node object at 0x0000027FB5BBBF28>\n",
      "shifting node: root.next:  <__main__.node object at 0x0000027FB4504048>\n",
      "shifting node: root.next:  <__main__.node object at 0x0000027FB4504128>\n",
      "shifting node: root.next:  None\n",
      "creating node\n",
      "85\n",
      "\n"
     ]
    }
   ],
   "source": [
    "# Initializing root node with None\n",
    "root = None\n",
    "\n",
    "for val in vals:\n",
    "    print('--------------------------------')\n",
    "    print(vals.index(val) + 1, ' iter:')\n",
    "    print('inside loop')\n",
    "    print()\n",
    "    # calling function \n",
    "    root = insert(root, val)"
   ]
  },
  {
   "cell_type": "code",
   "execution_count": 7,
   "metadata": {},
   "outputs": [],
   "source": [
    "def traverse(root):\n",
    "    if not root:\n",
    "        return\n",
    "    print(root.data, end=' ')\n",
    "    traverse(root.next)"
   ]
  },
  {
   "cell_type": "code",
   "execution_count": 8,
   "metadata": {},
   "outputs": [
    {
     "name": "stdout",
     "output_type": "stream",
     "text": [
      "33 15 77 61 5 14 37 89 21 85 "
     ]
    }
   ],
   "source": [
    "traverse(root)"
   ]
  },
  {
   "cell_type": "code",
   "execution_count": 9,
   "metadata": {},
   "outputs": [
    {
     "data": {
      "text/plain": [
       "77"
      ]
     },
     "execution_count": 9,
     "metadata": {},
     "output_type": "execute_result"
    }
   ],
   "source": [
    "root.next.next.data"
   ]
  },
  {
   "cell_type": "code",
   "execution_count": null,
   "metadata": {},
   "outputs": [],
   "source": []
  }
 ],
 "metadata": {
  "kernelspec": {
   "display_name": "Python 3",
   "language": "python",
   "name": "python3"
  },
  "language_info": {
   "codemirror_mode": {
    "name": "ipython",
    "version": 3
   },
   "file_extension": ".py",
   "mimetype": "text/x-python",
   "name": "python",
   "nbconvert_exporter": "python",
   "pygments_lexer": "ipython3",
   "version": "3.7.0"
  }
 },
 "nbformat": 4,
 "nbformat_minor": 2
}
